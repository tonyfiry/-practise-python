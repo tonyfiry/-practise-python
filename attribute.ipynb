{
 "cells": [
  {
   "cell_type": "code",
   "execution_count": 2,
   "metadata": {},
   "outputs": [],
   "source": [
    "#建立類別\n",
    "class Animal():\n",
    "    name = \"小鳥\"\n",
    "    def sing(self):\n",
    "        print(\"鸚鵡你會唱歌喔\")"
   ]
  },
  {
   "cell_type": "code",
   "execution_count": 4,
   "metadata": {},
   "outputs": [
    {
     "name": "stdout",
     "output_type": "stream",
     "text": [
      "小鳥\n",
      "鸚鵡你會唱歌喔\n"
     ]
    }
   ],
   "source": [
    "bird = Animal()\n",
    "print(bird.name)\n",
    "bird.sing()\n",
    "\n",
    "\n",
    "\n"
   ]
  },
  {
   "cell_type": "code",
   "execution_count": 5,
   "metadata": {},
   "outputs": [
    {
     "name": "stdout",
     "output_type": "stream",
     "text": [
      "小名\n",
      "嗨\n"
     ]
    }
   ],
   "source": [
    "class Say():\n",
    "    name = \"小名\"\n",
    "    def Ga(self):\n",
    "        print(\"嗨\")\n",
    "a = Say()\n",
    "print(a.name)\n",
    "a.Ga()"
   ]
  },
  {
   "cell_type": "code",
   "execution_count": 6,
   "metadata": {},
   "outputs": [
    {
     "name": "stdout",
     "output_type": "stream",
     "text": [
      "小明\n",
      "1 2 3 4 5 6 "
     ]
    }
   ],
   "source": [
    "class a():\n",
    "    name = \"小明\"\n",
    "    def Area(self):\n",
    "        list1 = [1,2,3,4,5,6]\n",
    "        for i in range(len(list1)):\n",
    "            print(str(list1[i]),end = \" \")\n",
    "name1 = a()\n",
    "print(name1.name)\n",
    "name1.Area()"
   ]
  },
  {
   "cell_type": "code",
   "execution_count": 34,
   "metadata": {},
   "outputs": [
    {
     "name": "stdout",
     "output_type": "stream",
     "text": [
      "鸚鵡\n",
      "鸚鵡很會唱歌\n"
     ]
    }
   ],
   "source": [
    "# class Animal():\n",
    "#     def __init__(self,name):\n",
    "#         self.name = name\n",
    "#     def sing(self):\n",
    "#         print(self.name + \"很會唱歌\")\n",
    "# bird = Animal(\"鸚鵡\")\n",
    "# print(bird.name)\n",
    "# bird.sing()\n"
   ]
  },
  {
   "cell_type": "code",
   "execution_count": 7,
   "metadata": {},
   "outputs": [
    {
     "name": "stdout",
     "output_type": "stream",
     "text": [
      "1024\n"
     ]
    }
   ],
   "source": [
    "#練習打類別跟物件\n",
    "class Area():\n",
    "    def __init__(self,width,height):\n",
    "        self.width = width\n",
    "        self.height = height\n",
    "    def A(self):\n",
    "        sum1 = self.width*self.height\n",
    "        print(sum1)\n",
    "bird = Area(32,32)\n",
    "bird.A()"
   ]
  },
  {
   "cell_type": "code",
   "execution_count": 9,
   "metadata": {},
   "outputs": [
    {
     "name": "stdout",
     "output_type": "stream",
     "text": [
      "鸚鵡,會唱歌喔!\n"
     ]
    }
   ],
   "source": [
    "#類別的建構式(__init__(必要))\n",
    "class Animal1():\n",
    "    def __init__(self,name):\n",
    "        self.name = name #定義屬性\n",
    "    def sing(self): #定義方法\n",
    "        print(self.name+\",會唱歌喔!\")\n",
    "bird1 = Animal1(\"鸚鵡\")\n",
    "bird1.sing()"
   ]
  },
  {
   "cell_type": "code",
   "execution_count": 12,
   "metadata": {},
   "outputs": [
    {
     "name": "stdout",
     "output_type": "stream",
     "text": [
      "鸚鵡2歲,會唱歌喔!\n"
     ]
    }
   ],
   "source": [
    "#屬性初始值的設定\n",
    "class Animal2():\n",
    "    def __init__(self,name,age):\n",
    "        self.name = name #定義屬性\n",
    "        self.age = age \n",
    "    def sing(self):#定義方法1\n",
    "        print(self.name+str(self.age)+\"歲\"+\",會唱歌喔!\")\n",
    "    def grow(self,year):#定義方法2\n",
    "        self.year = year\n",
    "        self.age += year\n",
    "bird1 = Animal2(\"鸚鵡\",1)\n",
    "bird1.grow(1)\n",
    "bird1.sing()"
   ]
  },
  {
   "cell_type": "code",
   "execution_count": null,
   "metadata": {},
   "outputs": [],
   "source": []
  }
 ],
 "metadata": {
  "kernelspec": {
   "display_name": "Python 3.9.5 64-bit",
   "language": "python",
   "name": "python3"
  },
  "language_info": {
   "codemirror_mode": {
    "name": "ipython",
    "version": 3
   },
   "file_extension": ".py",
   "mimetype": "text/x-python",
   "name": "python",
   "nbconvert_exporter": "python",
   "pygments_lexer": "ipython3",
   "version": "3.9.5"
  },
  "orig_nbformat": 4,
  "vscode": {
   "interpreter": {
    "hash": "c1844beb9b3ff452faf707c700df20b0c8f3da6cc48e66d83f108458ddbcca94"
   }
  }
 },
 "nbformat": 4,
 "nbformat_minor": 2
}
