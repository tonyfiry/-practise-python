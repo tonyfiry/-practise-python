{
 "cells": [
  {
   "cell_type": "code",
   "execution_count": 1,
   "metadata": {},
   "outputs": [],
   "source": [
    "#建立類別\n",
    "class Hello():#定義類別\n",
    "    name = \"小鳥\" #定義屬性\n",
    "    def sing(self): #定義方法\n",
    "        print(\"很會唱歌!\") #建立物件\n"
   ]
  },
  {
   "cell_type": "code",
   "execution_count": 4,
   "metadata": {},
   "outputs": [
    {
     "name": "stdout",
     "output_type": "stream",
     "text": [
      "小鳥\n",
      "很會唱歌!\n"
     ]
    }
   ],
   "source": [
    "bird = Hello()#物件 = 類別\n",
    "print(bird.name)#物件.屬性\n",
    "bird.sing()#物件.方法"
   ]
  },
  {
   "cell_type": "code",
   "execution_count": 6,
   "metadata": {},
   "outputs": [
    {
     "name": "stdout",
     "output_type": "stream",
     "text": [
      "小名\n",
      "嗨\n"
     ]
    }
   ],
   "source": [
    "class Say():\n",
    "    name = \"小名\"\n",
    "    def Ga(self):\n",
    "        print(\"嗨\")\n",
    "a = Say()\n",
    "print(a.name)\n",
    "a.Ga()"
   ]
  },
  {
   "cell_type": "code",
   "execution_count": 33,
   "metadata": {},
   "outputs": [
    {
     "name": "stdout",
     "output_type": "stream",
     "text": [
      "小明\n",
      "1 2 3 4 5 6 "
     ]
    }
   ],
   "source": [
    "class a():\n",
    "    name = \"小明\"\n",
    "    def Area(self):\n",
    "        list1 = [1,2,3,4,5,6]\n",
    "        for i in range(len(list1)):\n",
    "            print(str(list1[i]),end = \" \")\n",
    "name1 = a()\n",
    "print(name1.name)\n",
    "name1.Area()"
   ]
  },
  {
   "cell_type": "code",
   "execution_count": 34,
   "metadata": {},
   "outputs": [
    {
     "name": "stdout",
     "output_type": "stream",
     "text": [
      "鸚鵡\n",
      "鸚鵡很會唱歌\n"
     ]
    }
   ],
   "source": [
    "# class Animal():\n",
    "#     def __init__(self,name):\n",
    "#         self.name = name\n",
    "#     def sing(self):\n",
    "#         print(self.name + \"很會唱歌\")\n",
    "# bird = Animal(\"鸚鵡\")\n",
    "# print(bird.name)\n",
    "# bird.sing()\n"
   ]
  },
  {
   "cell_type": "code",
   "execution_count": 38,
   "metadata": {},
   "outputs": [
    {
     "name": "stdout",
     "output_type": "stream",
     "text": [
      "1024\n"
     ]
    }
   ],
   "source": [
    "#練習打類別跟物件\n",
    "class Area():\n",
    "    def __init__(self,width,height):\n",
    "        self.width = width\n",
    "        self.height = height\n",
    "    def A(self):\n",
    "        sum1 = self.width*self.height\n",
    "        print(sum1)\n",
    "bird = Area(32,32)\n",
    "bird.A()"
   ]
  },
  {
   "cell_type": "code",
   "execution_count": 49,
   "metadata": {},
   "outputs": [
    {
     "name": "stdout",
     "output_type": "stream",
     "text": [
      "鸚鵡2,很會唱歌\n"
     ]
    }
   ],
   "source": [
    "class Animal():\n",
    "    def __init__(self,name,age):\n",
    "        self.name = name\n",
    "        self.age = age\n",
    "    def sing(self):\n",
    "        print(self.name + str(self.age) + \",很會唱歌\")\n",
    "    def Grow(self,year):\n",
    "        self.year = year\n",
    "        self.age += year\n",
    "\n",
    "bird = Animal(\"鸚鵡\",1)\n",
    "bird.Grow(1)#會增加一歲\n",
    "bird.sing()\n",
    "\n"
   ]
  },
  {
   "cell_type": "code",
   "execution_count": null,
   "metadata": {},
   "outputs": [],
   "source": []
  },
  {
   "cell_type": "code",
   "execution_count": null,
   "metadata": {},
   "outputs": [],
   "source": []
  }
 ],
 "metadata": {
  "kernelspec": {
   "display_name": "Python 3.9.5 64-bit",
   "language": "python",
   "name": "python3"
  },
  "language_info": {
   "codemirror_mode": {
    "name": "ipython",
    "version": 3
   },
   "file_extension": ".py",
   "mimetype": "text/x-python",
   "name": "python",
   "nbconvert_exporter": "python",
   "pygments_lexer": "ipython3",
   "version": "3.9.5"
  },
  "orig_nbformat": 4,
  "vscode": {
   "interpreter": {
    "hash": "c1844beb9b3ff452faf707c700df20b0c8f3da6cc48e66d83f108458ddbcca94"
   }
  }
 },
 "nbformat": 4,
 "nbformat_minor": 2
}
