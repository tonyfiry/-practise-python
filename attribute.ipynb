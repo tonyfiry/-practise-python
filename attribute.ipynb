{
 "cells": [
  {
   "cell_type": "code",
   "execution_count": 2,
   "metadata": {},
   "outputs": [],
   "source": [
    "#建立類別\n",
    "class Animal():\n",
    "    name = \"小鳥\"\n",
    "    def sing(self):\n",
    "        print(\"鸚鵡你會唱歌喔\")"
   ]
  },
  {
   "cell_type": "code",
   "execution_count": 4,
   "metadata": {},
   "outputs": [
    {
     "name": "stdout",
     "output_type": "stream",
     "text": [
      "小鳥\n",
      "鸚鵡你會唱歌喔\n"
     ]
    }
   ],
   "source": [
    "bird = Animal()\n",
    "print(bird.name)\n",
    "bird.sing()\n",
    "\n",
    "\n",
    "\n"
   ]
  },
  {
   "cell_type": "code",
   "execution_count": 5,
   "metadata": {},
   "outputs": [
    {
     "name": "stdout",
     "output_type": "stream",
     "text": [
      "小名\n",
      "嗨\n"
     ]
    }
   ],
   "source": [
    "class Say():\n",
    "    name = \"小名\"\n",
    "    def Ga(self):\n",
    "        print(\"嗨\")\n",
    "a = Say()\n",
    "print(a.name)\n",
    "a.Ga()"
   ]
  },
  {
   "cell_type": "code",
   "execution_count": 6,
   "metadata": {},
   "outputs": [
    {
     "name": "stdout",
     "output_type": "stream",
     "text": [
      "小明\n",
      "1 2 3 4 5 6 "
     ]
    }
   ],
   "source": [
    "class a():\n",
    "    name = \"小明\"\n",
    "    def Area(self):\n",
    "        list1 = [1,2,3,4,5,6]\n",
    "        for i in range(len(list1)):\n",
    "            print(str(list1[i]),end = \" \")\n",
    "name1 = a()\n",
    "print(name1.name)\n",
    "name1.Area()"
   ]
  },
  {
   "cell_type": "code",
   "execution_count": 34,
   "metadata": {},
   "outputs": [
    {
     "name": "stdout",
     "output_type": "stream",
     "text": [
      "鸚鵡\n",
      "鸚鵡很會唱歌\n"
     ]
    }
   ],
   "source": [
    "# class Animal():\n",
    "#     def __init__(self,name):\n",
    "#         self.name = name\n",
    "#     def sing(self):\n",
    "#         print(self.name + \"很會唱歌\")\n",
    "# bird = Animal(\"鸚鵡\")\n",
    "# print(bird.name)\n",
    "# bird.sing()\n"
   ]
  },
  {
   "cell_type": "code",
   "execution_count": 7,
   "metadata": {},
   "outputs": [
    {
     "name": "stdout",
     "output_type": "stream",
     "text": [
      "1024\n"
     ]
    }
   ],
   "source": [
    "#練習打類別跟物件\n",
    "class Area():\n",
    "    def __init__(self,width,height):\n",
    "        self.width = width\n",
    "        self.height = height\n",
    "    def A(self):\n",
    "        sum1 = self.width*self.height\n",
    "        print(sum1)\n",
    "bird = Area(32,32)\n",
    "bird.A()"
   ]
  },
  {
   "cell_type": "code",
   "execution_count": 9,
   "metadata": {},
   "outputs": [
    {
     "name": "stdout",
     "output_type": "stream",
     "text": [
      "鸚鵡,會唱歌喔!\n"
     ]
    }
   ],
   "source": [
    "#類別的建構式(__init__(必要))\n",
    "class Animal1():\n",
    "    def __init__(self,name):\n",
    "        self.name = name #定義屬性\n",
    "    def sing(self): #定義方法\n",
    "        print(self.name+\",會唱歌喔!\")\n",
    "bird1 = Animal1(\"鸚鵡\")\n",
    "bird1.sing()"
   ]
  },
  {
   "cell_type": "code",
   "execution_count": 10,
   "metadata": {},
   "outputs": [
    {
     "name": "stdout",
     "output_type": "stream",
     "text": [
      "鸚鵡2歲,會唱歌喔!\n"
     ]
    }
   ],
   "source": [
    "#屬性初始值的設定\n",
    "class Animal2():\n",
    "    def __init__(self,name,age):\n",
    "        self.name = name #定義屬性\n",
    "        self.age = age \n",
    "    def sing(self):#定義方法1\n",
    "        print(self.name+str(self.age)+\"歲\"+\",會唱歌喔!\")\n",
    "    def grow(self,year):#定義方法2\n",
    "        self.year = year\n",
    "        self.age += year\n",
    "bird1 = Animal2(\"鸚鵡\",1)\n",
    "bird1.grow(1)\n",
    "#bird1.age = -1#不合理，因為不能年紀< 0\n",
    "bird1.sing()\n"
   ]
  },
  {
   "cell_type": "code",
   "execution_count": 7,
   "metadata": {},
   "outputs": [
    {
     "name": "stdout",
     "output_type": "stream",
     "text": [
      "小名,你好\n",
      "原來你12歲阿\n"
     ]
    }
   ],
   "source": [
    "class Say():#定義類別\n",
    "    def __init__(self,name):\n",
    "        self.name = name #定義屬性\n",
    "    def Hello1(self):#定義方法1\n",
    "        print(self.name+\",你好\")\n",
    "    def year(self,year):#定義方法2\n",
    "        self.year = year\n",
    "        print(\"原來你\"+str(year)+\"歲阿\")\n",
    "a = Say(\"小名\")#物件 = 類別\n",
    "a.Hello1()#物件.方法\n",
    "a.year(12)#物件.方法  "
   ]
  },
  {
   "cell_type": "markdown",
   "metadata": {},
   "source": [
    "##必學怎麼定義類別跟方法\n",
    "物件 = 類別()\n",
    "物件.屬性\n",
    "物件.方法()"
   ]
  },
  {
   "cell_type": "markdown",
   "metadata": {},
   "source": [
    "#public(共用)屬性.方法 = 共用方法 用在外部\n",
    "#private(私用)屬性.方法 = 封裝(encapsulation)"
   ]
  },
  {
   "cell_type": "code",
   "execution_count": null,
   "metadata": {},
   "outputs": [],
   "source": []
  },
  {
   "cell_type": "code",
   "execution_count": 6,
   "metadata": {},
   "outputs": [
    {
     "name": "stdout",
     "output_type": "stream",
     "text": [
      "鸚鵡2歲，你會唱歌!也會模仿人類說話!\n",
      "鸚鵡2歲，你會唱歌!也會模仿人類說話!\n"
     ]
    }
   ],
   "source": [
    "#封裝(encapsulation)\n",
    "class Animal():#定義類別\n",
    "    def __init__(self,name,age):\n",
    "        self.__name = name #定義私用屬性\n",
    "        self.__age = age\n",
    "    def __sing(self): #定義私用方法\n",
    "        print(self.__name + str(self.__age),end=\"歲，你會唱歌!\")\n",
    "    def talk(self): #定義共用方法\n",
    "        self.__sing() #使用私用方法\n",
    "        print(\"也會模仿人類說話!\")\n",
    "bird = Animal(\"鸚鵡\",2)\n",
    "bird.talk()\n",
    "\n",
    "bird.__age = -1#設定無效\n",
    "bird.talk()#鸚鵡12歲，你會唱歌!也會模仿人類說話!\n",
    "#bird.__sing()#執行出現錯誤"
   ]
  },
  {
   "cell_type": "code",
   "execution_count": 24,
   "metadata": {},
   "outputs": [
    {
     "name": "stdout",
     "output_type": "stream",
     "text": [
      "135.62\n",
      "計算成功\n",
      "32\n"
     ]
    }
   ],
   "source": [
    "#封裝(encapsulation)例子\n",
    "class Grea():\n",
    "    def __init__(self,x,y):#建置類別建構式\n",
    "        self.__x = x#定義私用屬性\n",
    "        self.__y = y#定義私用屬性\n",
    "    def __sum1(self):#定義私用方法\n",
    "        print(self.__x+self.__y*3.14)\n",
    "    def talk(self):#定義共用方法\n",
    "        self.__sum1()#使用私用方法\n",
    "        print(\"計算成功\")\n",
    "\n",
    "g1 = Grea(32,33)\n",
    "g1.talk()\n",
    "       "
   ]
  },
  {
   "cell_type": "code",
   "execution_count": 29,
   "metadata": {},
   "outputs": [
    {
     "name": "stdout",
     "output_type": "stream",
     "text": [
      "鸚鵡很會飛!\n",
      "粉紅色麻雀很會飛!\n",
      "粉紅色麻雀很會唱歌\n"
     ]
    }
   ],
   "source": [
    "#繼承(Inheritance)\n",
    "class Animal():#建置父類別建構式\n",
    "    def __init__(slef,name):\n",
    "        slef.name = name#定義共用屬性\n",
    "    def fly(slef):#定義共用方法\n",
    "        print(slef.name+\"很會飛!\")\n",
    "\n",
    "class Bird(Animal):#建置子類別建構式\n",
    "    def __init__(slef,name):\n",
    "        slef.name = \"粉紅色\"+name#定義共用屬性\n",
    "    def sing(slef):#定義共用方法\n",
    "        print(slef.name+\"很會唱歌\")\n",
    "\n",
    "pigeon = Animal(\"鸚鵡\")#父類別\n",
    "pigeon.fly()#共用方法\n",
    "\n",
    "parrot = Bird(\"麻雀\")#子類別\n",
    "parrot.fly()#共用方法\n",
    "parrot.sing()#共用方法\n",
    "\n",
    "\n"
   ]
  },
  {
   "cell_type": "code",
   "execution_count": 17,
   "metadata": {},
   "outputs": [
    {
     "name": "stdout",
     "output_type": "stream",
     "text": [
      "135.62\n",
      "計算成功\n",
      "91.08\n",
      "計算成功\n"
     ]
    }
   ],
   "source": [
    "class Grea1():\n",
    "    def __init__(self,x,y):#建置父類別建構式\n",
    "        self.x = x#定義私用屬性\n",
    "        self.y = y#定義私用屬性\n",
    "    def sum1(self):#定義私用方法\n",
    "        print(self.x+self.y*3.14)\n",
    "    def talk(self):#定義共用方法\n",
    "        self.sum1()#使用私用方法\n",
    "        print(\"計算成功\")\n",
    "        \n",
    "class Grea2(Grea1):\n",
    "    def __init__(self,x,y):#繼承子類別建構式\n",
    "        self.x = x#定義私用屬性\n",
    "        self.y = y#定義私用屬性\n",
    "    def sum1(self):#定義私用方法\n",
    "        print(self.x+self.y*3.14)\n",
    "    def talk(self):#定義共用方法\n",
    "        self.sum1()#使用私用方法\n",
    "        print(\"計算成功\")\n",
    "g1 = Grea1(32,33)\n",
    "g1.talk()\n",
    "\n",
    "g2 = Grea2(22,22)\n",
    "g2.talk()\n"
   ]
  },
  {
   "cell_type": "code",
   "execution_count": 30,
   "metadata": {},
   "outputs": [
    {
     "name": "stdout",
     "output_type": "stream",
     "text": [
      "鸚鵡很會飛!\n",
      "老鷹很會飛!\n",
      "貓頭鷹很會飛!\n",
      "狗很會亂叫!\n"
     ]
    }
   ],
   "source": [
    "#多型(Polymorphism)\n",
    "class Animal():#建置父類別建構式\n",
    "    def __init__(slef,name):\n",
    "        slef.name = name#定義共用屬性\n",
    "    def fly(slef):#定義共用方法\n",
    "        print(slef.name+\"很會飛!\")\n",
    "\n",
    "class Bird(Animal):#建置子類別建構式\n",
    "    def __init__(slef,name):\n",
    "        super().__init__(name)#執行父類別的__init()方法\n",
    "    def fly(slef):#定義共用方法\n",
    "        print(slef.name+\"很會飛!\")\n",
    "\n",
    "class Plane():#建置建構式\n",
    "    def __init__(slef,name):\n",
    "        slef.__name = name#定義私用屬性\n",
    "    def fly(slef):#使用共用方法\n",
    "        print(slef.__name+\"很會飛!\")\n",
    "def P():\n",
    "    print(\"狗很會亂叫!\")\n",
    "\n",
    "bird = Animal(\"鸚鵡\")\n",
    "bird.fly()\n",
    "bird2 = Bird(\"老鷹\")\n",
    "bird2.fly()\n",
    "p1=Plane(\"貓頭鷹\")\n",
    "p1.fly()\n",
    "P()"
   ]
  },
  {
   "cell_type": "code",
   "execution_count": 39,
   "metadata": {},
   "outputs": [
    {
     "name": "stdout",
     "output_type": "stream",
     "text": [
      "明天會更好!\n"
     ]
    }
   ],
   "source": [
    "#多重繼承\n",
    "class Father():\n",
    "    def say(slef):\n",
    "        print(\"明天會更好!\")\n",
    "class Mother():\n",
    "    def say(slef):\n",
    "        print(\"包容，尊重\")\n",
    "class Child(Father,Mother):\n",
    "    pass\n",
    "child = Child()\n",
    "child.say()"
   ]
  },
  {
   "cell_type": "code",
   "execution_count": null,
   "metadata": {},
   "outputs": [],
   "source": []
  }
 ],
 "metadata": {
  "kernelspec": {
   "display_name": "Python 3.10.5 64-bit",
   "language": "python",
   "name": "python3"
  },
  "language_info": {
   "codemirror_mode": {
    "name": "ipython",
    "version": 3
   },
   "file_extension": ".py",
   "mimetype": "text/x-python",
   "name": "python",
   "nbconvert_exporter": "python",
   "pygments_lexer": "ipython3",
   "version": "3.10.5"
  },
  "orig_nbformat": 4,
  "vscode": {
   "interpreter": {
    "hash": "286ec3cfebeedc2dbbdca4440f37977de9876081f9fe2370719d2d2dda7a7a43"
   }
  }
 },
 "nbformat": 4,
 "nbformat_minor": 2
}
