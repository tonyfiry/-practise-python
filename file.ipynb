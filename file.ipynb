{
 "cells": [
  {
   "cell_type": "code",
   "execution_count": 23,
   "metadata": {},
   "outputs": [
    {
     "name": "stdout",
     "output_type": "stream",
     "text": [
      "test.text,檔案未建立\n"
     ]
    }
   ],
   "source": [
    "#remove()語法\n",
    "import os #匯入 os 模組\n",
    "file = \"test.text\"\n",
    "if os.path.exists(file):#檢查文件是否存在\n",
    "    os.remove(file)\n",
    "else:\n",
    "    print(file+\",檔案未建立\")\n"
   ]
  },
  {
   "cell_type": "code",
   "execution_count": 24,
   "metadata": {},
   "outputs": [],
   "source": [
    "import os\n",
    "os.mkdir(\"mydir\")"
   ]
  },
  {
   "cell_type": "code",
   "execution_count": 25,
   "metadata": {},
   "outputs": [
    {
     "name": "stdout",
     "output_type": "stream",
     "text": [
      "mydir,檔案已建立!\n"
     ]
    }
   ],
   "source": [
    "#mkdir()語法\n",
    "import os #匯入 os 模組\n",
    "dir = \"mydir\"\n",
    "if not os.path.exists(dir):#檢查文件是否存在\n",
    "    os.mkdir(dir)#創建文件\n",
    "else:\n",
    "    print(dir+\",檔案已建立!\")"
   ]
  },
  {
   "cell_type": "code",
   "execution_count": 26,
   "metadata": {},
   "outputs": [],
   "source": [
    "#rmdir()語法\n",
    "import os #匯入 os 模組\n",
    "dir = \"mydir\"\n",
    "if  os.path.exists(dir):#檢查文件是否存在\n",
    "    os.rmdir(dir)\n",
    "else:\n",
    "    print(dir+\",目錄未建立!\")"
   ]
  },
  {
   "cell_type": "code",
   "execution_count": 29,
   "metadata": {},
   "outputs": [
    {
     "ename": "NameError",
     "evalue": "name '__file__' is not defined",
     "output_type": "error",
     "traceback": [
      "\u001b[1;31m---------------------------------------------------------------------------\u001b[0m",
      "\u001b[1;31mNameError\u001b[0m                                 Traceback (most recent call last)",
      "Cell \u001b[1;32mIn [29], line 3\u001b[0m\n\u001b[0;32m      1\u001b[0m \u001b[39m#system()語法\u001b[39;00m\n\u001b[0;32m      2\u001b[0m \u001b[39mimport\u001b[39;00m \u001b[39mos\u001b[39;00m\n\u001b[1;32m----> 3\u001b[0m cur_path \u001b[39m=\u001b[39m os\u001b[39m.\u001b[39mpath\u001b[39m.\u001b[39mdirname(\u001b[39m__file__\u001b[39;49m)\u001b[39m#取得目前路徑\u001b[39;00m\n\u001b[0;32m      4\u001b[0m os\u001b[39m.\u001b[39msystem(\u001b[39m\"\u001b[39m\u001b[39mcls\u001b[39m\u001b[39m\"\u001b[39m)\u001b[39m#清楚螢幕\u001b[39;00m\n\u001b[0;32m      5\u001b[0m os\u001b[39m.\u001b[39msystem(\u001b[39m\"\u001b[39m\u001b[39mmkdir dir2\u001b[39m\u001b[39m\"\u001b[39m)\u001b[39m#創建dir目錄\u001b[39;00m\n",
      "\u001b[1;31mNameError\u001b[0m: name '__file__' is not defined"
     ]
    }
   ],
   "source": [
    "#system()語法\n",
    "import os\n",
    "cur_path = os.path.dirname(__file__)#取得目前路徑\n",
    "os.system(\"cls\")#清楚螢幕\n",
    "os.system(\"mkdir dir2\")#創建dir目錄\n",
    "os.system(\"copy ossystem.py dir\\coyfile.py\")#複製檔案\n",
    "file = cur_path + \"\\dir2\\copyfile.py\"\n",
    "os.system(\"notepad++\" + file)#以記事本開啟copyfile.py檔\n"
   ]
  },
  {
   "cell_type": "code",
   "execution_count": null,
   "metadata": {},
   "outputs": [],
   "source": [
    "import os\n",
    "cur_path = os.path.dirname(__file__)\n",
    "sample_tree = os.walk(cur_path)\n",
    "for dirname,subdir,files in sample_tree:\n",
    "    print(\"檔案路徑:\",dirname)\n",
    "    print(\"目錄路徑:\",subdir)\n",
    "    print(\"檔案路徑:\",files)\n",
    "    print()"
   ]
  },
  {
   "cell_type": "code",
   "execution_count": null,
   "metadata": {},
   "outputs": [],
   "source": []
  },
  {
   "cell_type": "code",
   "execution_count": null,
   "metadata": {},
   "outputs": [],
   "source": []
  },
  {
   "cell_type": "code",
   "execution_count": null,
   "metadata": {},
   "outputs": [],
   "source": []
  }
 ],
 "metadata": {
  "kernelspec": {
   "display_name": "Python 3.10.5 64-bit",
   "language": "python",
   "name": "python3"
  },
  "language_info": {
   "codemirror_mode": {
    "name": "ipython",
    "version": 3
   },
   "file_extension": ".py",
   "mimetype": "text/x-python",
   "name": "python",
   "nbconvert_exporter": "python",
   "pygments_lexer": "ipython3",
   "version": "3.10.5 (tags/v3.10.5:f377153, Jun  6 2022, 16:14:13) [MSC v.1929 64 bit (AMD64)]"
  },
  "orig_nbformat": 4,
  "vscode": {
   "interpreter": {
    "hash": "286ec3cfebeedc2dbbdca4440f37977de9876081f9fe2370719d2d2dda7a7a43"
   }
  }
 },
 "nbformat": 4,
 "nbformat_minor": 2
}
