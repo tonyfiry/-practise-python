{
 "cells": [
  {
   "cell_type": "code",
   "execution_count": 5,
   "metadata": {},
   "outputs": [
    {
     "name": "stdout",
     "output_type": "stream",
     "text": [
      "我按到.text,檔案未建立\n"
     ]
    }
   ],
   "source": [
    "# import os #匯入 os 模組\n",
    "# file = \"我按到.text\"\n",
    "# if os.path.exists(file):#檢查文件是否存在\n",
    "#     os.remove(file)\n",
    "# else:\n",
    "#     print(file+\",檔案未建立\")\n"
   ]
  },
  {
   "cell_type": "code",
   "execution_count": 7,
   "metadata": {},
   "outputs": [],
   "source": [
    "import os #匯入 os 模組\n",
    "dir = \"test\"\n",
    "if not os.path.exists(dir):#檢查文件是否存在\n",
    "    os.mkdir(dir)#創建文件\n",
    "else:\n",
    "    print(dir+\",檔案已建立!\")"
   ]
  },
  {
   "cell_type": "code",
   "execution_count": 9,
   "metadata": {},
   "outputs": [
    {
     "name": "stdout",
     "output_type": "stream",
     "text": [
      "test,目錄未建立\n"
     ]
    }
   ],
   "source": [
    "import os #匯入 os 模組\n",
    "dir = \"test\"\n",
    "if not os.path.exists(dir):#檢查文件是否存在\n",
    "    os.rmdir(dir)\n",
    "else:\n",
    "    print(dir+\",目錄未建立!\")"
   ]
  },
  {
   "cell_type": "code",
   "execution_count": null,
   "metadata": {},
   "outputs": [],
   "source": []
  }
 ],
 "metadata": {
  "kernelspec": {
   "display_name": "Python 3.10.5 64-bit",
   "language": "python",
   "name": "python3"
  },
  "language_info": {
   "codemirror_mode": {
    "name": "ipython",
    "version": 3
   },
   "file_extension": ".py",
   "mimetype": "text/x-python",
   "name": "python",
   "nbconvert_exporter": "python",
   "pygments_lexer": "ipython3",
   "version": "3.10.5"
  },
  "orig_nbformat": 4,
  "vscode": {
   "interpreter": {
    "hash": "286ec3cfebeedc2dbbdca4440f37977de9876081f9fe2370719d2d2dda7a7a43"
   }
  }
 },
 "nbformat": 4,
 "nbformat_minor": 2
}
