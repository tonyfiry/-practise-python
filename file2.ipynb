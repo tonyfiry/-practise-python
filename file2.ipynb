{
 "cells": [
  {
   "cell_type": "code",
   "execution_count": null,
   "metadata": {},
   "outputs": [],
   "source": [
    "content = \"\"\"中文測試  中文測試 中文測試\"\"\"\n",
    "\n",
    "f = open('test.txt','w')\n",
    "f.write(content)\n",
    "f.close()\n"
   ]
  }
 ],
 "metadata": {
  "kernelspec": {
   "display_name": "Python 3",
   "language": "python",
   "name": "python3"
  },
  "language_info": {
   "name": "python",
   "version": "3.10.5 (tags/v3.10.5:f377153, Jun  6 2022, 16:14:13) [MSC v.1929 64 bit (AMD64)]"
  },
  "orig_nbformat": 4,
  "vscode": {
   "interpreter": {
    "hash": "286ec3cfebeedc2dbbdca4440f37977de9876081f9fe2370719d2d2dda7a7a43"
   }
  }
 },
 "nbformat": 4,
 "nbformat_minor": 2
}
