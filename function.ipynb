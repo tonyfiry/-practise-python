{
 "cells": [
  {
   "cell_type": "code",
   "execution_count": 5,
   "id": "022490cb",
   "metadata": {},
   "outputs": [],
   "source": [
    "#函式語法\n",
    "def sayhello():\n",
    "    print(\"hello\")"
   ]
  },
  {
   "cell_type": "code",
   "execution_count": 8,
   "id": "0d019650",
   "metadata": {},
   "outputs": [],
   "source": [
    "def GetArea(width,height):\n",
    "    Area = width*height\n",
    "    return Area\n",
    "ret1 = GetArea(20,100)"
   ]
  },
  {
   "cell_type": "code",
   "execution_count": 9,
   "id": "0527d46a",
   "metadata": {},
   "outputs": [
    {
     "name": "stdout",
     "output_type": "stream",
     "text": [
      "請輸入攝氏溫度:12\n",
      "華氏溫度為: 53.6度\n"
     ]
    }
   ],
   "source": [
    "#攝氏轉華氏\n",
    "def ctof(c):\n",
    "    f = c *1.8 + 32\n",
    "    return f\n",
    "inputc = float(input(\"請輸入攝氏溫度:\"))\n",
    "print(\"華氏溫度為:%5.1f度\"%(ctof(inputc)))"
   ]
  },
  {
   "cell_type": "markdown",
   "id": "f3ff498d",
   "metadata": {},
   "source": [
    "[\"變數\"=]函式名稱([參數])"
   ]
  },
  {
   "cell_type": "code",
   "execution_count": 17,
   "id": "8ded4b67",
   "metadata": {},
   "outputs": [
    {
     "name": "stdout",
     "output_type": "stream",
     "text": [
      "30 20\n",
      "10 20\n"
     ]
    }
   ],
   "source": [
    "#區域變數和全域變數\n",
    "def scope():\n",
    "    var1 = 30 #var1是區域變數\n",
    "    print(var1,var2)#30 20\n",
    "var1 = 10#var1是全域變數\n",
    "var2 = 20#var1是全域變數\n",
    "scope()\n",
    "print(var1,var2)#10 20"
   ]
  },
  {
   "cell_type": "code",
   "execution_count": 19,
   "id": "2d4514b5",
   "metadata": {},
   "outputs": [
    {
     "name": "stdout",
     "output_type": "stream",
     "text": [
      "10 20\n",
      "10 20\n"
     ]
    }
   ],
   "source": [
    "#全域變數 (global變數)\n",
    "def scope():\n",
    "    global var1\n",
    "    var1 = 10 #var1是區域變數\n",
    "    print(var1,var2)#30 20\n",
    "var1 = 40 #var1是全域變數\n",
    "var2 = 20#var1是全域變數\n",
    "scope()\n",
    "print(var1,var2)#10 20"
   ]
  },
  {
   "cell_type": "code",
   "execution_count": 49,
   "id": "ab0da7da",
   "metadata": {},
   "outputs": [
    {
     "data": {
      "text/plain": [
       "29"
      ]
     },
     "execution_count": 49,
     "metadata": {},
     "output_type": "execute_result"
    }
   ],
   "source": [
    "##數值函式\n",
    "abs(-11)#絕對值\n",
    "chr(65)#用整數轉換字元\n",
    "divmod(44,6)#取 X 除以 y 的商和餘數\n",
    "hex(12)#用整數轉換十六進位數字\n",
    "float(12)# 轉換成小數點\n",
    "int(22.7)#轉換成整數\n",
    "len([1,2,4,11,5,6])#取得元素個數\n",
    "oct(34)##用整數轉換八進位數字\n",
    "ord(\"我\")#回傳字元 x 的 Unicode 編碼值\n",
    "pow(2,3)#取得 x 的 y 次方\n",
    "round(44.6)#以四捨六入法取得 x\n",
    "sorted([1,2,4,11,5,6])#從小排到大排序\n",
    "str(56)#將x轉換成字串\n",
    "sum([1,2,4,11,5,6])#計算串列的元素的總和"
   ]
  },
  {
   "cell_type": "code",
   "execution_count": 48,
   "id": "ae723ea6",
   "metadata": {},
   "outputs": [
    {
     "name": "stdout",
     "output_type": "stream",
     "text": [
      "請輸入學生人數:12\n",
      "請輸入蘋果總數:100\n",
      "每個學生可分得蘋果 8個\n",
      "蘋果剩餘 4個\n"
     ]
    }
   ],
   "source": [
    "#學生均分蘋果(範例)\n",
    "person = eval(input(\"請輸入學生人數:\"))\n",
    "apple = eval(input(\"請輸入蘋果總數:\"))\n",
    "ret = divmod(apple,person)\n",
    "print(\"每個學生可分得蘋果 \"+ str(ret[0]) + \"個\")\n",
    "print(\"蘋果剩餘 \"+ str(ret[1]) + \"個\")"
   ]
  },
  {
   "cell_type": "code",
   "execution_count": 53,
   "id": "0593e062",
   "metadata": {},
   "outputs": [
    {
     "data": {
      "text/plain": [
       "' ABC  '"
      ]
     },
     "execution_count": 53,
     "metadata": {},
     "output_type": "execute_result"
    }
   ],
   "source": [
    "##字串函式\n",
    "\"ABC\".center(6)#將字串擴充為n個字元且置中\n",
    "\"ABC\".find(\"A\")#搜尋S字串在字串中的位置\n",
    "\"ABC\".endswith(\"C\")#搜尋S字串是否在結尾\n",
    "\"ABC\".islower()#搜尋S字串是否在小寫\n",
    "\"ABC\".isupper()#搜尋S字串是否在大寫\n",
    "\"$\".join([\"a\",\"b\"])#將串列中元素以s字串做為連接字元組成一個字元\n",
    "len(\"hi\")#取得字串長度\n",
    "\"ABC\".ljust(5)#將字串擴充為n個字元且靠左\n",
    "\"ABC\".rjust(5)#將字串擴充為n個字元且靠右\n",
    "\" ABC \".lstrip()#移除字串左方的空白字元\n",
    "\" ABC \".rstrip()#移除字串右方的空白字元\n",
    "\"ABC\".lower()#將字串字元都轉為小寫字元\n",
    "\"ABC\".replace(\"A\",\"B\")#將字串中的S1字串以S2字串取代\n",
    "\"BBC\".split(\"B\")#將字串以s字串為分隔字元分割為串列\n",
    "\"ABC\".startswith(\"A\")#搜尋S字串是否在開頭\n",
    "\"  Block  \".strip()#移除字串左右方的空白字元\n",
    "\"Blue\".upper()#將字串字元都轉為大寫字元"
   ]
  },
  {
   "cell_type": "code",
   "execution_count": 87,
   "id": "511180b7",
   "metadata": {},
   "outputs": [
    {
     "data": {
      "text/plain": [
       "'A&B'"
      ]
     },
     "execution_count": 87,
     "metadata": {},
     "output_type": "execute_result"
    }
   ],
   "source": [
    "\"&\".join([\"A\",\"B\"])#連接字串"
   ]
  },
  {
   "cell_type": "code",
   "execution_count": 89,
   "id": "91ccbdaa",
   "metadata": {},
   "outputs": [
    {
     "data": {
      "text/plain": [
       "'I love to you'"
      ]
     },
     "execution_count": 89,
     "metadata": {},
     "output_type": "execute_result"
    }
   ],
   "source": [
    "list1 = [\"I\",\"love\",\"to\",\"you\"]\n",
    "\" \".join(list1)"
   ]
  },
  {
   "cell_type": "code",
   "execution_count": 94,
   "id": "279a53c0",
   "metadata": {},
   "outputs": [
    {
     "data": {
      "text/plain": [
       "['l', 'o', 'v', 'e']"
      ]
     },
     "execution_count": 94,
     "metadata": {},
     "output_type": "execute_result"
    }
   ],
   "source": [
    "h =\"lzzzzzozzzzzvzzzzze\"\n",
    "h.split(\"zzzzz\")#分割字串"
   ]
  },
  {
   "cell_type": "code",
   "execution_count": 95,
   "id": "21194c42",
   "metadata": {},
   "outputs": [
    {
     "data": {
      "text/plain": [
       "True"
      ]
     },
     "execution_count": 95,
     "metadata": {},
     "output_type": "execute_result"
    }
   ],
   "source": [
    "g1 = \"https://toolboxtw.com/zh-TW/converter/temperature\"\n",
    "g1.startswith(\"https:\")#檢查開頭是否存在"
   ]
  },
  {
   "cell_type": "code",
   "execution_count": 96,
   "id": "f991a8df",
   "metadata": {},
   "outputs": [
    {
     "data": {
      "text/plain": [
       "True"
      ]
     },
     "execution_count": 96,
     "metadata": {},
     "output_type": "execute_result"
    }
   ],
   "source": [
    "g1 = \"https://toolboxtw.com/zh-TW/converter/temperature\"\n",
    "g1.endswith(\"temperature\")#檢查結尾是否存在"
   ]
  },
  {
   "cell_type": "code",
   "execution_count": 99,
   "id": "2cef8585",
   "metadata": {},
   "outputs": [
    {
     "name": "stdout",
     "output_type": "stream",
     "text": [
      "請輸入網址htta://www.youtube.com/watch?v=FyXtoTLLcDk&list=RDMM&start_radio=1&rv=7iRlkVWZeAQ&ab_channel=justintimberlakeVEVO\n",
      "輸入網址格式是錯誤的\n"
     ]
    }
   ],
   "source": [
    "web = input(\"請輸入網址\")\n",
    "if web.startswith(\"http:\")or web.startswith(\"https:\"):\n",
    "    print(\"輸入網址格式是正確的\")\n",
    "else:\n",
    "    print(\"輸入網址格式是錯誤的\")"
   ]
  },
  {
   "cell_type": "code",
   "execution_count": 104,
   "id": "e5723dd7",
   "metadata": {},
   "outputs": [
    {
     "name": "stdout",
     "output_type": "stream",
     "text": [
      "姓名    座號   國文   數學  英文\n",
      "林大明   1     100    87    79\n",
      "陳阿明   2      74    88   100\n",
      "張小英   3      82    65     8\n"
     ]
    }
   ],
   "source": [
    "#以字串排版函式列印成績單\n",
    "listname = [\"林大明\",\"陳阿明\",\"張小英\"]\n",
    "listchinese = [100,74,82]\n",
    "listmath = [87,88,65]\n",
    "listtenglish = [79,100,8]\n",
    "print(\"姓名    座號   國文   數學  英文\")\n",
    "for i in range(0,3):\n",
    "    print(listname[i].ljust(5),str(i+1).ljust(3),str(listchinese[i]).rjust(5),\n",
    "          str(listmath[i]).rjust(5),str(listtenglish[i]).rjust(5))"
   ]
  },
  {
   "cell_type": "code",
   "execution_count": 105,
   "id": "aaeef16a",
   "metadata": {},
   "outputs": [
    {
     "name": "stdout",
     "output_type": "stream",
     "text": [
      "3\n",
      "7\n",
      "-1\n"
     ]
    }
   ],
   "source": [
    "#搜尋字串\n",
    "str1 = \"I love python\"\n",
    "print(str1.find(\"o\"))\n",
    "print(str1.find(\"python\"))\n",
    "print(str1.find(\"x\"))"
   ]
  },
  {
   "cell_type": "code",
   "execution_count": 2,
   "id": "d051a3b6",
   "metadata": {},
   "outputs": [
    {
     "name": "stdout",
     "output_type": "stream",
     "text": [
      "0.554233579914212\n"
     ]
    }
   ],
   "source": [
    "#亂數模組\n",
    "#import random#第一個方法\n",
    "#from random import random#第二個方法\n",
    "# import random as r#第三個方法\n",
    "# str1 = \"abcdef\"\n",
    "# list1 = [\"a\",\"b\",\"c\",\"d\"]\n",
    "# print(r.random())"
   ]
  },
  {
   "cell_type": "code",
   "execution_count": 5,
   "id": "c113b58b",
   "metadata": {},
   "outputs": [
    {
     "name": "stdout",
     "output_type": "stream",
     "text": [
      "4\n"
     ]
    }
   ],
   "source": [
    "# from random import *\n",
    "# print(randrange(0,13,1))"
   ]
  },
  {
   "cell_type": "code",
   "execution_count": 6,
   "id": "004ec895",
   "metadata": {},
   "outputs": [
    {
     "name": "stdout",
     "output_type": "stream",
     "text": [
      "9\n"
     ]
    }
   ],
   "source": [
    "# import random\n",
    "# print(random.randint(1,20))"
   ]
  },
  {
   "cell_type": "code",
   "execution_count": 8,
   "id": "e4f5040a",
   "metadata": {},
   "outputs": [
    {
     "name": "stdout",
     "output_type": "stream",
     "text": [
      "你擲格子數字是4\n",
      "你擲格子數字是6\n",
      "你擲格子數字是3\n",
      "你擲格子數字是3\n",
      "你擲格子數字是1\n",
      "你擲格子數字是2\n",
      "遊戲結束了\n"
     ]
    }
   ],
   "source": [
    "#擲格子遊戲\n",
    "# import random as r\n",
    "\n",
    "# while True:\n",
    "#     inkey = input(\"按任意鍵[Enter]鍵擲格子，直接按[Enter]鍵結束\")\n",
    "#     if len(inkey)>0:\n",
    "#         num = r.randint(1,6)\n",
    "#         print(\"你擲格子數字是\" + str(num))\n",
    "#     else:\n",
    "#         print(\"遊戲結束了\")\n",
    "#         break\n"
   ]
  },
  {
   "cell_type": "code",
   "execution_count": 6,
   "id": "1a9bcfad",
   "metadata": {},
   "outputs": [
    {
     "name": "stdout",
     "output_type": "stream",
     "text": [
      "3\n",
      "e c e e c "
     ]
    }
   ],
   "source": [
    "#隨機取得一個字串或串列\n",
    "#choice()方法\n",
    "# import random as r\n",
    "# list1 =[1,2,3,4,5]\n",
    "# choice1 = r.choice(list1)\n",
    "# print(choice1)\n",
    "\n",
    "# for i in range(0,5):\n",
    "#     print(r.choice(\"abcdef\"),end=\" \")\n"
   ]
  },
  {
   "cell_type": "code",
   "execution_count": 12,
   "id": "a8805e0b",
   "metadata": {},
   "outputs": [
    {
     "name": "stdout",
     "output_type": "stream",
     "text": [
      "[5, 1, 3] [5, 1, 3] [5, 3, 1] [5, 3, 1] [1, 3, 5] "
     ]
    }
   ],
   "source": [
    "#隨機取得多個字串或串列\n",
    "#sample()方法\n",
    "# import random as r\n",
    "\n",
    "# for i in range(0,5):\n",
    "#     print(r.sample([1,3,5],3), end=\" \")"
   ]
  },
  {
   "cell_type": "code",
   "execution_count": 13,
   "id": "e5d8321e",
   "metadata": {},
   "outputs": [
    {
     "name": "stdout",
     "output_type": "stream",
     "text": [
      "['b', 'c', 'a'] ['c', 'b', 'a'] ['c', 'a', 'b'] ['c', 'b', 'a'] ['b', 'a', 'c'] "
     ]
    }
   ],
   "source": [
    "# for i in range(0,5):\n",
    "#     print(r.sample(\"abc\",3), end=\" \")"
   ]
  },
  {
   "cell_type": "code",
   "execution_count": null,
   "id": "1df2cba0",
   "metadata": {},
   "outputs": [],
   "source": [
    "#大樂透鐘獎號碼\n",
    "import random as r\n",
    "\n",
    "list1 = r.sample(range(1,50),7)\n",
    "special = list1.pop()"
   ]
  }
 ],
 "metadata": {
  "kernelspec": {
   "display_name": "Python 3.10.5 64-bit",
   "language": "python",
   "name": "python3"
  },
  "language_info": {
   "codemirror_mode": {
    "name": "ipython",
    "version": 3
   },
   "file_extension": ".py",
   "mimetype": "text/x-python",
   "name": "python",
   "nbconvert_exporter": "python",
   "pygments_lexer": "ipython3",
   "version": "3.10.5"
  },
  "vscode": {
   "interpreter": {
    "hash": "286ec3cfebeedc2dbbdca4440f37977de9876081f9fe2370719d2d2dda7a7a43"
   }
  }
 },
 "nbformat": 4,
 "nbformat_minor": 5
}
